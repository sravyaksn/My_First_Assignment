{
 "cells": [
  {
   "cell_type": "markdown",
   "id": "ee9fdbf1-62b4-42eb-a72a-479e54192d42",
   "metadata": {},
   "source": [
    "# Data Science Tools and Ecosystem"
   ]
  },
  {
   "cell_type": "markdown",
   "id": "dc72ab3b-844e-4810-b323-bbcbb27be8f0",
   "metadata": {},
   "source": [
    "In this notebook, Data Science Tools and Ecosystem are summarized."
   ]
  },
  {
   "cell_type": "markdown",
   "id": "ab074b46-9f27-4dea-a380-23ea41275921",
   "metadata": {},
   "source": [
    "**Objectives:**\n",
    "+ Describe the components of a Data Scientist's toolkit and list various tool categories.\n",
    "+ List examples of open-source tools used in data science.\n",
    "+ Describe the relevant features of open-source tools.\n",
    "+ List examples of commercial and cloud-based data science tools.\n",
    "+ List popular languages for Data Science."
   ]
  },
  {
   "cell_type": "markdown",
   "id": "da3cabbe-0e3b-4b16-a157-b46e36bd8e2f",
   "metadata": {},
   "source": [
    "Some of the popular languages that Data Scientists use are:\n",
    "1. Python\n",
    "2. R\n",
    "3. SQL"
   ]
  },
  {
   "cell_type": "markdown",
   "id": "468b6461-2b1c-4b79-b9c8-34df82164daf",
   "metadata": {},
   "source": [
    "Some of the commonly used libraries used by Data Scientists include:\n",
    "- Numpy\n",
    "- Pandas\n",
    "- Matplotlib\n",
    "- Seaborn\n",
    "- Sci-kitlearn"
   ]
  },
  {
   "cell_type": "markdown",
   "id": "f185a03a-ffd8-46ca-b06b-47e501345c02",
   "metadata": {},
   "source": [
    "| Data Science Tools |\n",
    "|--------------------|\n",
    "|Jupyter Notebook|\n",
    "|RStudio|\n",
    "|Spyder|"
   ]
  },
  {
   "cell_type": "markdown",
   "id": "38eca09c-f0f7-4753-8766-2ee34eed241a",
   "metadata": {},
   "source": [
    "### Below are a few examples of evaluating arithmetic expressions in Python"
   ]
  },
  {
   "cell_type": "code",
   "execution_count": 12,
   "id": "4f1b53c2-dec0-408f-8600-f252bcdc5336",
   "metadata": {},
   "outputs": [
    {
     "data": {
      "text/plain": [
       "17"
      ]
     },
     "execution_count": 12,
     "metadata": {},
     "output_type": "execute_result"
    }
   ],
   "source": [
    "#This a simple arithmetic expression to mutiply then add integers\n",
    "(3*4)+5"
   ]
  },
  {
   "cell_type": "code",
   "execution_count": 14,
   "id": "0d3be69f-60e8-4d74-93af-cc461199ca69",
   "metadata": {},
   "outputs": [
    {
     "name": "stdout",
     "output_type": "stream",
     "text": [
      "3.3333333333333335\n"
     ]
    }
   ],
   "source": [
    "# This will convert 200 minutes to hours by diving by 60\n",
    "minutes = 200\n",
    "hours = minutes / 60\n",
    "print(hours)"
   ]
  },
  {
   "cell_type": "markdown",
   "id": "23e8c47c-1e86-4084-8146-515896f7da8b",
   "metadata": {},
   "source": [
    "## Author\n",
    "Sravya Kakarlapudi"
   ]
  },
  {
   "cell_type": "code",
   "execution_count": null,
   "id": "47e64897-a780-4eb3-a8ce-be59d8a93068",
   "metadata": {},
   "outputs": [],
   "source": []
  }
 ],
 "metadata": {
  "kernelspec": {
   "display_name": "Python 3 (ipykernel)",
   "language": "python",
   "name": "python3"
  },
  "language_info": {
   "codemirror_mode": {
    "name": "ipython",
    "version": 3
   },
   "file_extension": ".py",
   "mimetype": "text/x-python",
   "name": "python",
   "nbconvert_exporter": "python",
   "pygments_lexer": "ipython3",
   "version": "3.12.4"
  }
 },
 "nbformat": 4,
 "nbformat_minor": 5
}
